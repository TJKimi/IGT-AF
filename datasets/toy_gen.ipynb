{
 "cells": [
  {
   "cell_type": "markdown",
   "source": [
    "# Generating formatted toy dataset"
   ],
   "metadata": {
    "collapsed": false
   }
  },
  {
   "cell_type": "code",
   "execution_count": 1,
   "metadata": {
    "collapsed": true
   },
   "outputs": [
    {
     "data": {
      "text/plain": "        s7    s8    s9   s10   s11   s12   s13  s14   s15   s16  ...  \\\n0     0.00  1.00  0.00  0.00  0.00  0.00  0.00  0.0  0.00  10.0  ...   \n1     0.09  0.13  0.44  0.08  0.22  0.03  0.01  0.0  0.00  10.0  ...   \n2     0.00  0.00  0.99  0.00  0.00  0.00  0.00  0.0  0.00  11.0  ...   \n3     0.60  0.00  0.00  0.00  0.00  0.40  0.00  0.0  0.00   8.0  ...   \n4     0.00  0.00  0.00  0.63  0.00  0.00  0.35  0.0  0.03   9.0  ...   \n...    ...   ...   ...   ...   ...   ...   ...  ...   ...   ...  ...   \n5649  0.28  0.15  0.00  0.00  0.00  0.00  0.57  0.0  0.00  10.0  ...   \n5650  0.00  0.00  0.29  0.00  0.62  0.08  0.00  0.0  0.00  10.0  ...   \n5651  0.02  0.00  0.17  0.00  0.00  0.64  0.16  0.0  0.00   9.0  ...   \n5652  0.28  0.64  0.00  0.08  0.00  0.00  0.00  0.0  0.00  11.0  ...   \n5653  0.00  0.00  0.72  0.00  0.00  0.00  0.16  0.0  0.11  13.0  ...   \n\n      sin_dt_day  cos_dt_day  sin_dt_month  cos_dt_month  seller_id  \\\n0       0.988468    0.151428      0.500000      0.866025        492   \n1       0.988468    0.151428      0.500000      0.866025         68   \n2       0.988468    0.151428      0.500000      0.866025        312   \n3       0.988468    0.151428      0.500000      0.866025        371   \n4       0.988468    0.151428      0.500000      0.866025        509   \n...          ...         ...           ...           ...        ...   \n5649   -0.433884   -0.900969      0.866025      0.500000         55   \n5650   -0.433884   -0.900969      0.866025      0.500000         49   \n5651   -0.433884   -0.900969      0.866025      0.500000        254   \n5652   -0.433884   -0.900969      0.866025      0.500000        236   \n5653   -0.433884   -0.900969      0.866025      0.500000        669   \n\n      accept_city  receiver_county  pay_hour      date  total_cost  \n0              25                3        21  20210107          62  \n1              17                2        19  20210107          65  \n2              36                1         6  20210107          98  \n3              13                0        12  20210107          48  \n4              70                3        15  20210107          44  \n...           ...              ...       ...       ...         ...  \n5649            4                2        14  20210216          94  \n5650           18                3        17  20210216         114  \n5651           17                2        13  20210216          70  \n5652           70                3        16  20210216         116  \n5653           68                0        20  20210216          86  \n\n[5654 rows x 277 columns]",
      "text/html": "<div>\n<style scoped>\n    .dataframe tbody tr th:only-of-type {\n        vertical-align: middle;\n    }\n\n    .dataframe tbody tr th {\n        vertical-align: top;\n    }\n\n    .dataframe thead th {\n        text-align: right;\n    }\n</style>\n<table border=\"1\" class=\"dataframe\">\n  <thead>\n    <tr style=\"text-align: right;\">\n      <th></th>\n      <th>s7</th>\n      <th>s8</th>\n      <th>s9</th>\n      <th>s10</th>\n      <th>s11</th>\n      <th>s12</th>\n      <th>s13</th>\n      <th>s14</th>\n      <th>s15</th>\n      <th>s16</th>\n      <th>...</th>\n      <th>sin_dt_day</th>\n      <th>cos_dt_day</th>\n      <th>sin_dt_month</th>\n      <th>cos_dt_month</th>\n      <th>seller_id</th>\n      <th>accept_city</th>\n      <th>receiver_county</th>\n      <th>pay_hour</th>\n      <th>date</th>\n      <th>total_cost</th>\n    </tr>\n  </thead>\n  <tbody>\n    <tr>\n      <th>0</th>\n      <td>0.00</td>\n      <td>1.00</td>\n      <td>0.00</td>\n      <td>0.00</td>\n      <td>0.00</td>\n      <td>0.00</td>\n      <td>0.00</td>\n      <td>0.0</td>\n      <td>0.00</td>\n      <td>10.0</td>\n      <td>...</td>\n      <td>0.988468</td>\n      <td>0.151428</td>\n      <td>0.500000</td>\n      <td>0.866025</td>\n      <td>492</td>\n      <td>25</td>\n      <td>3</td>\n      <td>21</td>\n      <td>20210107</td>\n      <td>62</td>\n    </tr>\n    <tr>\n      <th>1</th>\n      <td>0.09</td>\n      <td>0.13</td>\n      <td>0.44</td>\n      <td>0.08</td>\n      <td>0.22</td>\n      <td>0.03</td>\n      <td>0.01</td>\n      <td>0.0</td>\n      <td>0.00</td>\n      <td>10.0</td>\n      <td>...</td>\n      <td>0.988468</td>\n      <td>0.151428</td>\n      <td>0.500000</td>\n      <td>0.866025</td>\n      <td>68</td>\n      <td>17</td>\n      <td>2</td>\n      <td>19</td>\n      <td>20210107</td>\n      <td>65</td>\n    </tr>\n    <tr>\n      <th>2</th>\n      <td>0.00</td>\n      <td>0.00</td>\n      <td>0.99</td>\n      <td>0.00</td>\n      <td>0.00</td>\n      <td>0.00</td>\n      <td>0.00</td>\n      <td>0.0</td>\n      <td>0.00</td>\n      <td>11.0</td>\n      <td>...</td>\n      <td>0.988468</td>\n      <td>0.151428</td>\n      <td>0.500000</td>\n      <td>0.866025</td>\n      <td>312</td>\n      <td>36</td>\n      <td>1</td>\n      <td>6</td>\n      <td>20210107</td>\n      <td>98</td>\n    </tr>\n    <tr>\n      <th>3</th>\n      <td>0.60</td>\n      <td>0.00</td>\n      <td>0.00</td>\n      <td>0.00</td>\n      <td>0.00</td>\n      <td>0.40</td>\n      <td>0.00</td>\n      <td>0.0</td>\n      <td>0.00</td>\n      <td>8.0</td>\n      <td>...</td>\n      <td>0.988468</td>\n      <td>0.151428</td>\n      <td>0.500000</td>\n      <td>0.866025</td>\n      <td>371</td>\n      <td>13</td>\n      <td>0</td>\n      <td>12</td>\n      <td>20210107</td>\n      <td>48</td>\n    </tr>\n    <tr>\n      <th>4</th>\n      <td>0.00</td>\n      <td>0.00</td>\n      <td>0.00</td>\n      <td>0.63</td>\n      <td>0.00</td>\n      <td>0.00</td>\n      <td>0.35</td>\n      <td>0.0</td>\n      <td>0.03</td>\n      <td>9.0</td>\n      <td>...</td>\n      <td>0.988468</td>\n      <td>0.151428</td>\n      <td>0.500000</td>\n      <td>0.866025</td>\n      <td>509</td>\n      <td>70</td>\n      <td>3</td>\n      <td>15</td>\n      <td>20210107</td>\n      <td>44</td>\n    </tr>\n    <tr>\n      <th>...</th>\n      <td>...</td>\n      <td>...</td>\n      <td>...</td>\n      <td>...</td>\n      <td>...</td>\n      <td>...</td>\n      <td>...</td>\n      <td>...</td>\n      <td>...</td>\n      <td>...</td>\n      <td>...</td>\n      <td>...</td>\n      <td>...</td>\n      <td>...</td>\n      <td>...</td>\n      <td>...</td>\n      <td>...</td>\n      <td>...</td>\n      <td>...</td>\n      <td>...</td>\n      <td>...</td>\n    </tr>\n    <tr>\n      <th>5649</th>\n      <td>0.28</td>\n      <td>0.15</td>\n      <td>0.00</td>\n      <td>0.00</td>\n      <td>0.00</td>\n      <td>0.00</td>\n      <td>0.57</td>\n      <td>0.0</td>\n      <td>0.00</td>\n      <td>10.0</td>\n      <td>...</td>\n      <td>-0.433884</td>\n      <td>-0.900969</td>\n      <td>0.866025</td>\n      <td>0.500000</td>\n      <td>55</td>\n      <td>4</td>\n      <td>2</td>\n      <td>14</td>\n      <td>20210216</td>\n      <td>94</td>\n    </tr>\n    <tr>\n      <th>5650</th>\n      <td>0.00</td>\n      <td>0.00</td>\n      <td>0.29</td>\n      <td>0.00</td>\n      <td>0.62</td>\n      <td>0.08</td>\n      <td>0.00</td>\n      <td>0.0</td>\n      <td>0.00</td>\n      <td>10.0</td>\n      <td>...</td>\n      <td>-0.433884</td>\n      <td>-0.900969</td>\n      <td>0.866025</td>\n      <td>0.500000</td>\n      <td>49</td>\n      <td>18</td>\n      <td>3</td>\n      <td>17</td>\n      <td>20210216</td>\n      <td>114</td>\n    </tr>\n    <tr>\n      <th>5651</th>\n      <td>0.02</td>\n      <td>0.00</td>\n      <td>0.17</td>\n      <td>0.00</td>\n      <td>0.00</td>\n      <td>0.64</td>\n      <td>0.16</td>\n      <td>0.0</td>\n      <td>0.00</td>\n      <td>9.0</td>\n      <td>...</td>\n      <td>-0.433884</td>\n      <td>-0.900969</td>\n      <td>0.866025</td>\n      <td>0.500000</td>\n      <td>254</td>\n      <td>17</td>\n      <td>2</td>\n      <td>13</td>\n      <td>20210216</td>\n      <td>70</td>\n    </tr>\n    <tr>\n      <th>5652</th>\n      <td>0.28</td>\n      <td>0.64</td>\n      <td>0.00</td>\n      <td>0.08</td>\n      <td>0.00</td>\n      <td>0.00</td>\n      <td>0.00</td>\n      <td>0.0</td>\n      <td>0.00</td>\n      <td>11.0</td>\n      <td>...</td>\n      <td>-0.433884</td>\n      <td>-0.900969</td>\n      <td>0.866025</td>\n      <td>0.500000</td>\n      <td>236</td>\n      <td>70</td>\n      <td>3</td>\n      <td>16</td>\n      <td>20210216</td>\n      <td>116</td>\n    </tr>\n    <tr>\n      <th>5653</th>\n      <td>0.00</td>\n      <td>0.00</td>\n      <td>0.72</td>\n      <td>0.00</td>\n      <td>0.00</td>\n      <td>0.00</td>\n      <td>0.16</td>\n      <td>0.0</td>\n      <td>0.11</td>\n      <td>13.0</td>\n      <td>...</td>\n      <td>-0.433884</td>\n      <td>-0.900969</td>\n      <td>0.866025</td>\n      <td>0.500000</td>\n      <td>669</td>\n      <td>68</td>\n      <td>0</td>\n      <td>20</td>\n      <td>20210216</td>\n      <td>86</td>\n    </tr>\n  </tbody>\n</table>\n<p>5654 rows × 277 columns</p>\n</div>"
     },
     "execution_count": 1,
     "metadata": {},
     "output_type": "execute_result"
    }
   ],
   "source": [
    "import pandas as pd\n",
    "\n",
    "file_name = 'toy/toy_processed.csv'\n",
    "\n",
    "df = pd.read_csv(file_name)\n",
    "df"
   ]
  },
  {
   "cell_type": "code",
   "execution_count": 11,
   "outputs": [
    {
     "data": {
      "text/plain": "array([[0.17437714, 0.97884653, 0.81684111, ..., 0.84435579, 0.67108313,\n        0.43324742],\n       [0.61255577, 0.75667149, 0.25752307, ..., 0.80302069, 0.91370561,\n        0.32351527],\n       [0.5293444 , 0.88412011, 0.12225327, ..., 0.3526086 , 0.93890107,\n        0.61826974],\n       ...,\n       [0.70690275, 0.11264243, 0.66061391, ..., 0.15893141, 0.18278152,\n        0.22901076],\n       [0.30892384, 0.3990308 , 0.8460992 , ..., 0.28605914, 0.35669467,\n        0.90900908],\n       [0.45931174, 0.55814707, 0.5521327 , ..., 0.72393496, 0.39980654,\n        0.67857201]])"
     },
     "execution_count": 11,
     "metadata": {},
     "output_type": "execute_result"
    }
   ],
   "source": [
    "import numpy as np\n",
    "r_len = df.shape\n",
    "fixed_values_len = 4+2\n",
    "random_data = np.random.rand(r_len[0], r_len[1]-fixed_values_len)\n",
    "random_data"
   ],
   "metadata": {
    "collapsed": false,
    "pycharm": {
     "name": "#%%\n"
    }
   }
  },
  {
   "cell_type": "code",
   "execution_count": 19,
   "outputs": [
    {
     "data": {
      "text/plain": "            s0        s1        s2        s3        s4        s5        s6  \\\n0     0.174377  0.978847  0.816841  0.193961  0.311755  0.185611  0.798258   \n1     0.612556  0.756671  0.257523  0.246581  0.375680  0.279466  0.351795   \n2     0.529344  0.884120  0.122253  0.589635  0.545697  0.760050  0.781729   \n3     0.603995  0.008713  0.215174  0.399989  0.075998  0.252085  0.395141   \n4     0.505599  0.539082  0.116734  0.422988  0.064405  0.605025  0.639055   \n...        ...       ...       ...       ...       ...       ...       ...   \n5649  0.215297  0.725874  0.006434  0.146947  0.831551  0.317150  0.832059   \n5650  0.843939  0.078931  0.593796  0.771156  0.674141  0.349785  0.060890   \n5651  0.706903  0.112642  0.660614  0.959499  0.246739  0.913504  0.837985   \n5652  0.308924  0.399031  0.846099  0.367885  0.289748  0.419646  0.427234   \n5653  0.459312  0.558147  0.552133  0.100698  0.230174  0.458707  0.954591   \n\n            s7        s8        s9  ...  sin_dt_day  cos_dt_day  sin_dt_month  \\\n0     0.359911  0.886627  0.928047  ...    0.839584    0.844356      0.671083   \n1     0.055219  0.530708  0.805611  ...    0.110430    0.803021      0.913706   \n2     0.961831  0.902134  0.718358  ...    0.613804    0.352609      0.938901   \n3     0.940637  0.341507  0.454430  ...    0.628216    0.668409      0.892091   \n4     0.499549  0.671457  0.774267  ...    0.352190    0.256860      0.836845   \n...        ...       ...       ...  ...         ...         ...           ...   \n5649  0.209995  0.436773  0.577442  ...    0.927395    0.072320      0.309442   \n5650  0.419681  0.515114  0.402262  ...    0.044486    0.575327      0.012841   \n5651  0.662698  0.995387  0.487442  ...    0.814824    0.158931      0.182782   \n5652  0.112887  0.076994  0.356250  ...    0.288397    0.286059      0.356695   \n5653  0.854526  0.889164  0.363909  ...    0.257267    0.723935      0.399807   \n\n      cos_dt_month  seller_id  accept_city  receiver_county  pay_hour  \\\n0         0.433247        492           25                3        21   \n1         0.323515         68           17                2        19   \n2         0.618270        312           36                1         6   \n3         0.903042        371           13                0        12   \n4         0.879006        509           70                3        15   \n...            ...        ...          ...              ...       ...   \n5649      0.808634         55            4                2        14   \n5650      0.717923         49           18                3        17   \n5651      0.229011        254           17                2        13   \n5652      0.909009        236           70                3        16   \n5653      0.678572        669           68                0        20   \n\n          date  total_cost  \n0     20210107          62  \n1     20210107          65  \n2     20210107          98  \n3     20210107          48  \n4     20210107          44  \n...        ...         ...  \n5649  20210216          94  \n5650  20210216         114  \n5651  20210216          70  \n5652  20210216         116  \n5653  20210216          86  \n\n[5654 rows x 277 columns]",
      "text/html": "<div>\n<style scoped>\n    .dataframe tbody tr th:only-of-type {\n        vertical-align: middle;\n    }\n\n    .dataframe tbody tr th {\n        vertical-align: top;\n    }\n\n    .dataframe thead th {\n        text-align: right;\n    }\n</style>\n<table border=\"1\" class=\"dataframe\">\n  <thead>\n    <tr style=\"text-align: right;\">\n      <th></th>\n      <th>s0</th>\n      <th>s1</th>\n      <th>s2</th>\n      <th>s3</th>\n      <th>s4</th>\n      <th>s5</th>\n      <th>s6</th>\n      <th>s7</th>\n      <th>s8</th>\n      <th>s9</th>\n      <th>...</th>\n      <th>sin_dt_day</th>\n      <th>cos_dt_day</th>\n      <th>sin_dt_month</th>\n      <th>cos_dt_month</th>\n      <th>seller_id</th>\n      <th>accept_city</th>\n      <th>receiver_county</th>\n      <th>pay_hour</th>\n      <th>date</th>\n      <th>total_cost</th>\n    </tr>\n  </thead>\n  <tbody>\n    <tr>\n      <th>0</th>\n      <td>0.174377</td>\n      <td>0.978847</td>\n      <td>0.816841</td>\n      <td>0.193961</td>\n      <td>0.311755</td>\n      <td>0.185611</td>\n      <td>0.798258</td>\n      <td>0.359911</td>\n      <td>0.886627</td>\n      <td>0.928047</td>\n      <td>...</td>\n      <td>0.839584</td>\n      <td>0.844356</td>\n      <td>0.671083</td>\n      <td>0.433247</td>\n      <td>492</td>\n      <td>25</td>\n      <td>3</td>\n      <td>21</td>\n      <td>20210107</td>\n      <td>62</td>\n    </tr>\n    <tr>\n      <th>1</th>\n      <td>0.612556</td>\n      <td>0.756671</td>\n      <td>0.257523</td>\n      <td>0.246581</td>\n      <td>0.375680</td>\n      <td>0.279466</td>\n      <td>0.351795</td>\n      <td>0.055219</td>\n      <td>0.530708</td>\n      <td>0.805611</td>\n      <td>...</td>\n      <td>0.110430</td>\n      <td>0.803021</td>\n      <td>0.913706</td>\n      <td>0.323515</td>\n      <td>68</td>\n      <td>17</td>\n      <td>2</td>\n      <td>19</td>\n      <td>20210107</td>\n      <td>65</td>\n    </tr>\n    <tr>\n      <th>2</th>\n      <td>0.529344</td>\n      <td>0.884120</td>\n      <td>0.122253</td>\n      <td>0.589635</td>\n      <td>0.545697</td>\n      <td>0.760050</td>\n      <td>0.781729</td>\n      <td>0.961831</td>\n      <td>0.902134</td>\n      <td>0.718358</td>\n      <td>...</td>\n      <td>0.613804</td>\n      <td>0.352609</td>\n      <td>0.938901</td>\n      <td>0.618270</td>\n      <td>312</td>\n      <td>36</td>\n      <td>1</td>\n      <td>6</td>\n      <td>20210107</td>\n      <td>98</td>\n    </tr>\n    <tr>\n      <th>3</th>\n      <td>0.603995</td>\n      <td>0.008713</td>\n      <td>0.215174</td>\n      <td>0.399989</td>\n      <td>0.075998</td>\n      <td>0.252085</td>\n      <td>0.395141</td>\n      <td>0.940637</td>\n      <td>0.341507</td>\n      <td>0.454430</td>\n      <td>...</td>\n      <td>0.628216</td>\n      <td>0.668409</td>\n      <td>0.892091</td>\n      <td>0.903042</td>\n      <td>371</td>\n      <td>13</td>\n      <td>0</td>\n      <td>12</td>\n      <td>20210107</td>\n      <td>48</td>\n    </tr>\n    <tr>\n      <th>4</th>\n      <td>0.505599</td>\n      <td>0.539082</td>\n      <td>0.116734</td>\n      <td>0.422988</td>\n      <td>0.064405</td>\n      <td>0.605025</td>\n      <td>0.639055</td>\n      <td>0.499549</td>\n      <td>0.671457</td>\n      <td>0.774267</td>\n      <td>...</td>\n      <td>0.352190</td>\n      <td>0.256860</td>\n      <td>0.836845</td>\n      <td>0.879006</td>\n      <td>509</td>\n      <td>70</td>\n      <td>3</td>\n      <td>15</td>\n      <td>20210107</td>\n      <td>44</td>\n    </tr>\n    <tr>\n      <th>...</th>\n      <td>...</td>\n      <td>...</td>\n      <td>...</td>\n      <td>...</td>\n      <td>...</td>\n      <td>...</td>\n      <td>...</td>\n      <td>...</td>\n      <td>...</td>\n      <td>...</td>\n      <td>...</td>\n      <td>...</td>\n      <td>...</td>\n      <td>...</td>\n      <td>...</td>\n      <td>...</td>\n      <td>...</td>\n      <td>...</td>\n      <td>...</td>\n      <td>...</td>\n      <td>...</td>\n    </tr>\n    <tr>\n      <th>5649</th>\n      <td>0.215297</td>\n      <td>0.725874</td>\n      <td>0.006434</td>\n      <td>0.146947</td>\n      <td>0.831551</td>\n      <td>0.317150</td>\n      <td>0.832059</td>\n      <td>0.209995</td>\n      <td>0.436773</td>\n      <td>0.577442</td>\n      <td>...</td>\n      <td>0.927395</td>\n      <td>0.072320</td>\n      <td>0.309442</td>\n      <td>0.808634</td>\n      <td>55</td>\n      <td>4</td>\n      <td>2</td>\n      <td>14</td>\n      <td>20210216</td>\n      <td>94</td>\n    </tr>\n    <tr>\n      <th>5650</th>\n      <td>0.843939</td>\n      <td>0.078931</td>\n      <td>0.593796</td>\n      <td>0.771156</td>\n      <td>0.674141</td>\n      <td>0.349785</td>\n      <td>0.060890</td>\n      <td>0.419681</td>\n      <td>0.515114</td>\n      <td>0.402262</td>\n      <td>...</td>\n      <td>0.044486</td>\n      <td>0.575327</td>\n      <td>0.012841</td>\n      <td>0.717923</td>\n      <td>49</td>\n      <td>18</td>\n      <td>3</td>\n      <td>17</td>\n      <td>20210216</td>\n      <td>114</td>\n    </tr>\n    <tr>\n      <th>5651</th>\n      <td>0.706903</td>\n      <td>0.112642</td>\n      <td>0.660614</td>\n      <td>0.959499</td>\n      <td>0.246739</td>\n      <td>0.913504</td>\n      <td>0.837985</td>\n      <td>0.662698</td>\n      <td>0.995387</td>\n      <td>0.487442</td>\n      <td>...</td>\n      <td>0.814824</td>\n      <td>0.158931</td>\n      <td>0.182782</td>\n      <td>0.229011</td>\n      <td>254</td>\n      <td>17</td>\n      <td>2</td>\n      <td>13</td>\n      <td>20210216</td>\n      <td>70</td>\n    </tr>\n    <tr>\n      <th>5652</th>\n      <td>0.308924</td>\n      <td>0.399031</td>\n      <td>0.846099</td>\n      <td>0.367885</td>\n      <td>0.289748</td>\n      <td>0.419646</td>\n      <td>0.427234</td>\n      <td>0.112887</td>\n      <td>0.076994</td>\n      <td>0.356250</td>\n      <td>...</td>\n      <td>0.288397</td>\n      <td>0.286059</td>\n      <td>0.356695</td>\n      <td>0.909009</td>\n      <td>236</td>\n      <td>70</td>\n      <td>3</td>\n      <td>16</td>\n      <td>20210216</td>\n      <td>116</td>\n    </tr>\n    <tr>\n      <th>5653</th>\n      <td>0.459312</td>\n      <td>0.558147</td>\n      <td>0.552133</td>\n      <td>0.100698</td>\n      <td>0.230174</td>\n      <td>0.458707</td>\n      <td>0.954591</td>\n      <td>0.854526</td>\n      <td>0.889164</td>\n      <td>0.363909</td>\n      <td>...</td>\n      <td>0.257267</td>\n      <td>0.723935</td>\n      <td>0.399807</td>\n      <td>0.678572</td>\n      <td>669</td>\n      <td>68</td>\n      <td>0</td>\n      <td>20</td>\n      <td>20210216</td>\n      <td>86</td>\n    </tr>\n  </tbody>\n</table>\n<p>5654 rows × 277 columns</p>\n</div>"
     },
     "execution_count": 19,
     "metadata": {},
     "output_type": "execute_result"
    }
   ],
   "source": [
    "df.iloc[:, :r_len[1]-fixed_values_len] = random_data\n",
    "df"
   ],
   "metadata": {
    "collapsed": false,
    "pycharm": {
     "name": "#%%\n"
    }
   }
  },
  {
   "cell_type": "code",
   "execution_count": 20,
   "outputs": [],
   "source": [
    "df.to_csv(file_name, index=False)"
   ],
   "metadata": {
    "collapsed": false,
    "pycharm": {
     "name": "#%%\n"
    }
   }
  }
 ],
 "metadata": {
  "kernelspec": {
   "display_name": "Python 3",
   "language": "python",
   "name": "python3"
  },
  "language_info": {
   "codemirror_mode": {
    "name": "ipython",
    "version": 2
   },
   "file_extension": ".py",
   "mimetype": "text/x-python",
   "name": "python",
   "nbconvert_exporter": "python",
   "pygments_lexer": "ipython2",
   "version": "2.7.6"
  }
 },
 "nbformat": 4,
 "nbformat_minor": 0
}